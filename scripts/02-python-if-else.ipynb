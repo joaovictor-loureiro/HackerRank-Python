{
 "cells": [
  {
   "cell_type": "markdown",
   "metadata": {},
   "source": [
    "#### Task\n",
    "Given an integer, **n**, perform the followi**n**g conditional actions:\n",
    "\n",
    "If **n** is odd, print *Weird* <br>\n",
    "If **n** is even and in the inclusive range of 2 to 5, print *Not Weird*<br>\n",
    "If **n** is even and in the inclusive range of 6 to 20, print *Weird* <br>\n",
    "If **n** is even and greater than 20, print *Not Weird* <br>\n",
    "\n",
    "\n",
    "Input Format <br>\n",
    "A single line containing a positive integer, **n**."
   ]
  },
  {
   "cell_type": "code",
   "execution_count": 3,
   "metadata": {},
   "outputs": [],
   "source": [
    "n = 5   \n"
   ]
  },
  {
   "cell_type": "code",
   "execution_count": 4,
   "metadata": {},
   "outputs": [
    {
     "name": "stdout",
     "output_type": "stream",
     "text": [
      "Weird\n"
     ]
    }
   ],
   "source": [
    "if n % 2 != 0:\n",
    "    print('Weird')\n",
    "else:\n",
    "    if n in range(2, 6):\n",
    "        print('Not Weird')\n",
    "    elif n in range(6, 21):\n",
    "        print('Weird')\n",
    "    elif n > 20:\n",
    "        print('Not Weird')"
   ]
  }
 ],
 "metadata": {
  "interpreter": {
   "hash": "31f2aee4e71d21fbe5cf8b01ff0e069b9275f58929596ceb00d14d90e3e16cd6"
  },
  "kernelspec": {
   "display_name": "Python 3.8.10 64-bit",
   "language": "python",
   "name": "python3"
  },
  "language_info": {
   "codemirror_mode": {
    "name": "ipython",
    "version": 3
   },
   "file_extension": ".py",
   "mimetype": "text/x-python",
   "name": "python",
   "nbconvert_exporter": "python",
   "pygments_lexer": "ipython3",
   "version": "3.8.10"
  },
  "orig_nbformat": 4
 },
 "nbformat": 4,
 "nbformat_minor": 2
}
