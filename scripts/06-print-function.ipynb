{
 "cells": [
  {
   "cell_type": "markdown",
   "metadata": {},
   "source": [
    "#### Task\n",
    "The included code stub will read an integer, *n*, from STDIN.\n",
    "\n",
    "Without using any string methods, try to print the following:\n",
    "*123...n*\n",
    "\n",
    "Note that *\"...\"* represents the consecutive values in between.\n",
    "\n",
    "##### Example\n",
    "*n = 5*</br>\n",
    "Print the string *12345*.\n",
    "\n",
    "##### Input Format\n",
    "\n",
    "The first line contains an integer *n*.\n",
    "\n",
    "##### Constraints\n",
    "*1 ≤ n ≤ 150*\n",
    "\n",
    "##### Output Format\n",
    "\n",
    "Print the list of integers from  *1* through *n* as a string, without spaces."
   ]
  },
  {
   "cell_type": "code",
   "execution_count": 1,
   "metadata": {},
   "outputs": [],
   "source": [
    "n = 5"
   ]
  },
  {
   "cell_type": "code",
   "execution_count": 4,
   "metadata": {},
   "outputs": [
    {
     "name": "stdout",
     "output_type": "stream",
     "text": [
      "12345\n"
     ]
    }
   ],
   "source": [
    "string = ''\n",
    "\n",
    "for n in range(1, n + 1):\n",
    "    string += str(n)\n",
    "    \n",
    "print(string)"
   ]
  }
 ],
 "metadata": {
  "interpreter": {
   "hash": "31f2aee4e71d21fbe5cf8b01ff0e069b9275f58929596ceb00d14d90e3e16cd6"
  },
  "kernelspec": {
   "display_name": "Python 3.8.10 64-bit",
   "language": "python",
   "name": "python3"
  },
  "language_info": {
   "codemirror_mode": {
    "name": "ipython",
    "version": 3
   },
   "file_extension": ".py",
   "mimetype": "text/x-python",
   "name": "python",
   "nbconvert_exporter": "python",
   "pygments_lexer": "ipython3",
   "version": "3.8.10"
  },
  "orig_nbformat": 4
 },
 "nbformat": 4,
 "nbformat_minor": 2
}
